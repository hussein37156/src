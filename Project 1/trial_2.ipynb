{
 "cells": [
  {
   "cell_type": "markdown",
   "metadata": {},
   "source": [
    "importing modules"
   ]
  },
  {
   "cell_type": "code",
   "execution_count": 52,
   "metadata": {},
   "outputs": [],
   "source": [
    "import os \n",
    "import numpy as np # type: ignore\n",
    "import pandas as pd# type: ignore\n",
    "from matplotlib import pyplot as plt  # type: ignore"
   ]
  },
  {
   "cell_type": "markdown",
   "metadata": {},
   "source": [
    "importing data"
   ]
  },
  {
   "cell_type": "code",
   "execution_count": 53,
   "metadata": {},
   "outputs": [
    {
     "name": "stdout",
     "output_type": "stream",
     "text": [
      "file is found\n",
      "importing data on progress\n",
      "done importing data\n"
     ]
    }
   ],
   "source": [
    "data_path='/home/hussein/catkin_ws/src/Project 1/data_sets/train.csv'\n",
    "\n",
    "if os.path.exists(data_path):\n",
    "    print('file is found')\n",
    "    print('importing data on progress')\n",
    "    data=pd.read_csv(data_path)\n",
    "    print('done importing data')\n",
    "    \n",
    "else:\n",
    "    print('no such file or directory')\n",
    "\n",
    "\n",
    "\n",
    "data=np.array(data)\n",
    "m,n=data.shape\n",
    "\n",
    "data_dev=data[0:1000].T\n",
    "Y_dav=data_dev[0]\n",
    "X_dev=data_dev[1:n]/255.0\n",
    "\n",
    "data_train=data[1000:m].T\n",
    "Y_train=data_train[0]\n",
    "X_train=data_train[1:n]/255.0\n",
    "\n",
    "mx,nx=X_train.shape\n",
    "\n",
    "\n",
    "\n"
   ]
  },
  {
   "cell_type": "markdown",
   "metadata": {},
   "source": [
    "define the activatrion function"
   ]
  },
  {
   "cell_type": "code",
   "execution_count": 68,
   "metadata": {},
   "outputs": [],
   "source": [
    "def ReLU(Z):\n",
    "    return np.maximum(Z,0)\n",
    "\n",
    "def ReLU_prime(Z):\n",
    "    return Z>0\n",
    "\n",
    "def softmax(Z):\n",
    "    return np.exp(Z)/sum(np.exp(Z))\n",
    "\n",
    "def one_hot(Y):\n",
    "    one_hot_Y = np.zeros((Y.size, Y.max() + 1))\n",
    "    one_hot_Y[np.arange(Y.size), Y] = 1\n",
    "    one_hot_Y = one_hot_Y.T\n",
    "    return one_hot_Y"
   ]
  },
  {
   "cell_type": "markdown",
   "metadata": {},
   "source": [
    "define propagation functions"
   ]
  },
  {
   "cell_type": "code",
   "execution_count": 65,
   "metadata": {},
   "outputs": [],
   "source": [
    "def params_init():\n",
    "    W1=np.random.rand(10,784)-0.5\n",
    "    b1=np.random.rand(10,1)-0.5\n",
    "    W2=np.random.rand(10,10)-0.5\n",
    "    b2=np.random.rand(10,1)-0.5\n",
    "    return W1,b1,W2,b2\n",
    "\n",
    "def forward_prop(W1,b1,W2,b2,X):\n",
    "    Z1=W1.dot(X)+b1\n",
    "    A1=ReLU(Z1)\n",
    "    Z2=W2.dot(A1)+b2\n",
    "    A2=softmax(Z2)\n",
    "    return Z1,A1,Z2,A2\n",
    "\n",
    "def backward_prop(Z1, A1, A2, W2, X, Y):\n",
    "    one_hot_Y = one_hot(Y)\n",
    "    dZ2 = A2 - one_hot_Y\n",
    "    dW2 = 1 / m * dZ2.dot(A1.T)\n",
    "    db2 = 1 / m * np.sum(dZ2)\n",
    "    dZ1 = W2.T.dot(dZ2) * ReLU_prime(Z1)\n",
    "    dW1 = 1 / m * dZ1.dot(X.T)\n",
    "    db1 = 1 / m * np.sum(dZ1)\n",
    "    return dW1, db1, dW2, db2\n",
    "\n",
    "def params_update(dW1,db1,dW2,db2,W1,b1,W2,b2,alpha):\n",
    "    W1=W1-alpha*dW1\n",
    "    W2=W2-alpha*dW2\n",
    "    b1=b1-alpha*db1\n",
    "    b2=b2-alpha*db2\n",
    "    return W1,b1,W2,b2"
   ]
  },
  {
   "cell_type": "markdown",
   "metadata": {},
   "source": [
    "Prediction and training"
   ]
  },
  {
   "cell_type": "code",
   "execution_count": 69,
   "metadata": {},
   "outputs": [],
   "source": [
    "def get_predictions(A2):\n",
    "    return np.argmax(A2, 0)\n",
    "\n",
    "def get_accuracy(predictions, Y):\n",
    "    print(predictions,Y)\n",
    "    return np.sum(predictions == Y) / Y.size\n",
    "\n",
    "def gradient_descent(X, Y, alpha, iterations):\n",
    "    W1, b1, W2, b2 = params_init()\n",
    "    for i in range(iterations):\n",
    "        Z1, A1, Z2, A2 = forward_prop(W1, b1, W2, b2, X)\n",
    "        dW1, db1, dW2, db2 = backward_prop(Z1, A1, A2, W2, X, Y)\n",
    "        W1, b1, W2, b2 = params_update(dW1,db1,dW2,db2,W1,b1,W2,b2,alpha)\n",
    "        if i % 10 == 0:\n",
    "            print(\"Iteration: \", i)\n",
    "            predictions = get_predictions(A2)\n",
    "            print(get_accuracy(predictions, Y))\n",
    "    return W1, b1, W2, b2"
   ]
  },
  {
   "cell_type": "markdown",
   "metadata": {},
   "source": [
    "Train the model"
   ]
  },
  {
   "cell_type": "code",
   "execution_count": 77,
   "metadata": {},
   "outputs": [
    {
     "name": "stdout",
     "output_type": "stream",
     "text": [
      "Iteration:  0\n",
      "[2 8 2 ... 4 5 4] [1 5 1 ... 7 6 9]\n",
      "0.0931219512195122\n",
      "Iteration:  10\n",
      "[1 8 1 ... 4 6 1] [1 5 1 ... 7 6 9]\n",
      "0.24873170731707317\n",
      "Iteration:  20\n",
      "[1 8 1 ... 4 6 3] [1 5 1 ... 7 6 9]\n",
      "0.3284390243902439\n",
      "Iteration:  30\n",
      "[1 8 1 ... 4 6 3] [1 5 1 ... 7 6 9]\n",
      "0.3823170731707317\n",
      "Iteration:  40\n",
      "[1 8 1 ... 3 6 4] [1 5 1 ... 7 6 9]\n",
      "0.42129268292682925\n",
      "Iteration:  50\n",
      "[1 6 1 ... 3 6 4] [1 5 1 ... 7 6 9]\n",
      "0.4552926829268293\n",
      "Iteration:  60\n",
      "[1 6 1 ... 3 6 4] [1 5 1 ... 7 6 9]\n",
      "0.48985365853658536\n",
      "Iteration:  70\n",
      "[1 6 1 ... 3 6 4] [1 5 1 ... 7 6 9]\n",
      "0.5219512195121951\n",
      "Iteration:  80\n",
      "[1 6 1 ... 3 6 9] [1 5 1 ... 7 6 9]\n",
      "0.5553658536585366\n",
      "Iteration:  90\n",
      "[1 6 1 ... 3 6 9] [1 5 1 ... 7 6 9]\n",
      "0.5871463414634146\n",
      "Iteration:  100\n",
      "[1 6 1 ... 3 6 9] [1 5 1 ... 7 6 9]\n",
      "0.6123414634146341\n",
      "Iteration:  110\n",
      "[1 6 1 ... 3 6 9] [1 5 1 ... 7 6 9]\n",
      "0.6349268292682927\n",
      "Iteration:  120\n",
      "[1 6 1 ... 3 6 9] [1 5 1 ... 7 6 9]\n",
      "0.6534878048780488\n",
      "Iteration:  130\n",
      "[1 6 1 ... 3 6 9] [1 5 1 ... 7 6 9]\n",
      "0.6698780487804878\n",
      "Iteration:  140\n",
      "[1 6 1 ... 3 6 9] [1 5 1 ... 7 6 9]\n",
      "0.685609756097561\n",
      "Iteration:  150\n",
      "[1 6 1 ... 3 6 9] [1 5 1 ... 7 6 9]\n",
      "0.6991951219512195\n",
      "Iteration:  160\n",
      "[1 6 1 ... 7 6 9] [1 5 1 ... 7 6 9]\n",
      "0.7112439024390244\n",
      "Iteration:  170\n",
      "[1 6 1 ... 7 6 9] [1 5 1 ... 7 6 9]\n",
      "0.7220243902439024\n",
      "Iteration:  180\n",
      "[1 6 1 ... 7 6 9] [1 5 1 ... 7 6 9]\n",
      "0.7310731707317073\n",
      "Iteration:  190\n",
      "[1 6 1 ... 7 6 9] [1 5 1 ... 7 6 9]\n",
      "0.7396829268292683\n",
      "Iteration:  200\n",
      "[1 6 1 ... 7 6 9] [1 5 1 ... 7 6 9]\n",
      "0.7472682926829268\n",
      "Iteration:  210\n",
      "[1 6 1 ... 7 6 9] [1 5 1 ... 7 6 9]\n",
      "0.7550487804878049\n",
      "Iteration:  220\n",
      "[1 6 1 ... 7 6 9] [1 5 1 ... 7 6 9]\n",
      "0.7621219512195122\n",
      "Iteration:  230\n",
      "[1 6 1 ... 7 6 9] [1 5 1 ... 7 6 9]\n",
      "0.7686341463414634\n",
      "Iteration:  240\n",
      "[1 6 1 ... 7 6 9] [1 5 1 ... 7 6 9]\n",
      "0.7738780487804878\n",
      "Iteration:  250\n",
      "[1 6 1 ... 7 6 9] [1 5 1 ... 7 6 9]\n",
      "0.7794146341463415\n",
      "Iteration:  260\n",
      "[1 6 1 ... 7 6 9] [1 5 1 ... 7 6 9]\n",
      "0.7845853658536586\n",
      "Iteration:  270\n",
      "[1 6 1 ... 7 6 9] [1 5 1 ... 7 6 9]\n",
      "0.7889024390243903\n",
      "Iteration:  280\n",
      "[1 6 1 ... 7 6 9] [1 5 1 ... 7 6 9]\n",
      "0.7936829268292683\n",
      "Iteration:  290\n",
      "[1 6 1 ... 7 6 9] [1 5 1 ... 7 6 9]\n",
      "0.7977317073170732\n",
      "Iteration:  300\n",
      "[1 6 1 ... 7 6 9] [1 5 1 ... 7 6 9]\n",
      "0.8013414634146342\n",
      "Iteration:  310\n",
      "[1 6 1 ... 7 6 9] [1 5 1 ... 7 6 9]\n",
      "0.8048780487804879\n",
      "Iteration:  320\n",
      "[1 6 1 ... 7 6 9] [1 5 1 ... 7 6 9]\n",
      "0.8082926829268293\n",
      "Iteration:  330\n",
      "[1 6 1 ... 7 6 9] [1 5 1 ... 7 6 9]\n",
      "0.811829268292683\n",
      "Iteration:  340\n",
      "[1 6 1 ... 7 6 9] [1 5 1 ... 7 6 9]\n",
      "0.814560975609756\n",
      "Iteration:  350\n",
      "[1 6 1 ... 7 6 9] [1 5 1 ... 7 6 9]\n",
      "0.8175365853658536\n",
      "Iteration:  360\n",
      "[1 6 1 ... 7 6 9] [1 5 1 ... 7 6 9]\n",
      "0.8202195121951219\n",
      "Iteration:  370\n",
      "[1 6 1 ... 7 6 9] [1 5 1 ... 7 6 9]\n",
      "0.8228536585365853\n",
      "Iteration:  380\n",
      "[1 6 1 ... 7 6 9] [1 5 1 ... 7 6 9]\n",
      "0.8250243902439024\n",
      "Iteration:  390\n",
      "[1 6 1 ... 7 6 9] [1 5 1 ... 7 6 9]\n",
      "0.8272682926829268\n",
      "Iteration:  400\n",
      "[1 6 1 ... 7 6 9] [1 5 1 ... 7 6 9]\n",
      "0.8293658536585365\n",
      "Iteration:  410\n",
      "[1 6 1 ... 7 6 9] [1 5 1 ... 7 6 9]\n",
      "0.8311463414634146\n",
      "Iteration:  420\n",
      "[1 6 1 ... 7 6 9] [1 5 1 ... 7 6 9]\n",
      "0.8332195121951219\n",
      "Iteration:  430\n",
      "[1 6 1 ... 7 6 9] [1 5 1 ... 7 6 9]\n",
      "0.8353414634146341\n",
      "Iteration:  440\n",
      "[1 6 1 ... 7 6 9] [1 5 1 ... 7 6 9]\n",
      "0.8367317073170731\n",
      "Iteration:  450\n",
      "[1 6 1 ... 7 6 9] [1 5 1 ... 7 6 9]\n",
      "0.8381219512195122\n",
      "Iteration:  460\n",
      "[1 6 1 ... 7 6 9] [1 5 1 ... 7 6 9]\n",
      "0.8394878048780487\n",
      "Iteration:  470\n",
      "[1 6 1 ... 7 6 9] [1 5 1 ... 7 6 9]\n",
      "0.8413170731707317\n",
      "Iteration:  480\n",
      "[1 6 1 ... 7 6 9] [1 5 1 ... 7 6 9]\n",
      "0.8431463414634146\n",
      "Iteration:  490\n",
      "[1 6 1 ... 7 6 9] [1 5 1 ... 7 6 9]\n",
      "0.8444878048780488\n"
     ]
    }
   ],
   "source": [
    "W1, b1, W2, b2 = gradient_descent(X_train, Y_train, 0.1, 500)"
   ]
  },
  {
   "cell_type": "markdown",
   "metadata": {},
   "source": [
    "functions to test the model"
   ]
  },
  {
   "cell_type": "code",
   "execution_count": 75,
   "metadata": {},
   "outputs": [],
   "source": [
    "def make_predictions(X, W1, b1, W2, b2):\n",
    "    _, _, _, A2 = forward_prop(W1, b1, W2, b2, X)\n",
    "    predictions = get_predictions(A2)\n",
    "    return predictions\n",
    "\n",
    "def test_prediction(index, W1, b1, W2, b2):\n",
    "    current_image = X_train[:, index, None]\n",
    "    prediction = make_predictions(X_train[:, index, None], W1, b1, W2, b2)\n",
    "    label = Y_train[index]\n",
    "    print(\"Prediction: \", prediction)\n",
    "    print(\"Label: \", label)\n",
    "    \n",
    "    current_image = current_image.reshape((28, 28)) * 255\n",
    "    plt.gray()\n",
    "    plt.imshow(current_image, interpolation='nearest')\n",
    "    plt.show()"
   ]
  },
  {
   "cell_type": "markdown",
   "metadata": {},
   "source": [
    "Test the model"
   ]
  },
  {
   "cell_type": "code",
   "execution_count": 78,
   "metadata": {},
   "outputs": [
    {
     "name": "stdout",
     "output_type": "stream",
     "text": [
      "Prediction:  [6]\n",
      "Label:  5\n"
     ]
    },
    {
     "data": {
      "image/png": "[encoded data removed]",
      "text/plain": [
       "<Figure size 640x480 with 1 Axes>"
      ]
     },
     "metadata": {},
     "output_type": "display_data"
    }
   ],
   "source": [
    "test_prediction(1,W1,b1,W2,b2)"
   ]
  }
 ],
 "metadata": {
  "kernelspec": {
   "display_name": "Python 3",
   "language": "python",
   "name": "python3"
  },
  "language_info": {
   "codemirror_mode": {
    "name": "ipython",
    "version": 3
   },
   "file_extension": ".py",
   "mimetype": "text/x-python",
   "name": "python",
   "nbconvert_exporter": "python",
   "pygments_lexer": "ipython3",
   "version": "3.8.10"
  }
 },
 "nbformat": 4,
 "nbformat_minor": 2
}
